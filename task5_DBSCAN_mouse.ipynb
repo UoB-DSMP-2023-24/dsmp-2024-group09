import pandas as pd
from sklearn.cluster import DBSCAN
from sklearn.metrics import silhouette_score
import matplotlib.pyplot as plt
from sklearn.manifold import MDS

# Read distance matrix.
mouse = pd.read_csv('tr_mouse_alpha_beta(4).csv')
distance_matrix = mouse.values

# For the distance matrix, we use precomputed as the measure of distance.
dbscan = DBSCAN(eps = 120, min_samples = 35, metric = "precomputed")
clusters = dbscan.fit_predict(distance_matrix)
# print("Mouse Cluster labels:", clusters)

# For visualization, we use the MDS multidimensional scaling technique to reduce the distance matrix to a two-dimensional space.
mds = MDS(n_components = 2, dissimilarity = "precomputed", random_state = 42)
mds_transformed = mds.fit_transform(distance_matrix)

# Calculate silhouette coefficients (only calculate non-noisy clustered data).
valid_clusters = clusters[clusters != -1]
valid_mds_transformed = mds_transformed[clusters != -1]

if len(set(valid_clusters)) > 1:  # There must be at least 2 clusters to calculate the silhouette coefficient.
    silhouette = silhouette_score(valid_mds_transformed, valid_clusters)
    print("The silhouette coefficient of the mouse is ：", silhouette)
else:
    silhouette = -1 

# Visualize clustering results
plt.figure(figsize=(10, 8))
plt.scatter(valid_mds_transformed[:, 0], valid_mds_transformed[:, 1], c = valid_clusters, cmap='viridis', marker='o', s=50)
plt.title('DBSCAN Clustering (Silhouette Coefficient: {:.2f})'.format(silhouette))
plt.xlabel('MDS Dimension 1')
plt.ylabel('MDS Dimension 2')
plt.colorbar(label='Cluster Label')
plt.show()
