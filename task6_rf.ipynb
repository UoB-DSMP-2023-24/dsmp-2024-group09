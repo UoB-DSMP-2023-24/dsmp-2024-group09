{
 "cells": [
  {
   "cell_type": "code",
   "execution_count": 6,
   "id": "afafe707",
   "metadata": {},
   "outputs": [
    {
     "name": "stdout",
     "output_type": "stream",
     "text": [
      "Unique species: ['HomoSapiens' 'MusMusculus' 'MacacaMulatta']\n",
      "    cdr3  v.segm  j.segm  species  mhc.a\n",
      "0  60524      60      36        0     39\n",
      "1  45957     157      60        0     39\n",
      "2  21030     157      60        0     39\n",
      "3  54282      53      19        0     39\n",
      "4  21061     157      60        0     39\n",
      "0    198\n",
      "1    198\n",
      "2    198\n",
      "3    198\n",
      "4    198\n",
      "dtype: int16\n",
      "Training set size: (73289, 5)\n",
      "Test set size: (18323, 5)\n"
     ]
    }
   ],
   "source": [
    "import pandas as pd\n",
    "from sklearn.model_selection import train_test_split, GridSearchCV, KFold\n",
    "from sklearn.feature_selection import SelectFromModel\n",
    "from sklearn.ensemble import RandomForestClassifier\n",
    "from sklearn import metrics\n",
    "from sklearn.metrics import accuracy_score\n",
    "from sklearn.dummy import DummyClassifier \n",
    "import matplotlib.pyplot as plt\n",
    "\n",
    "\n",
    "# Load the TCR sequence data\n",
    "df = pd.read_csv('vdjdb_excel.csv')\n",
    "\n",
    "# Show unique species\n",
    "print(\"Unique species:\", df['species'].unique())\n",
    "\n",
    "# Define the key features and the target variable\n",
    "key_features = [\"cdr3\", 'v.segm', 'j.segm', 'species', \"mhc.a\"]\n",
    "target = 'antigen.epitope'\n",
    "\n",
    "# Drop rows with missing values in the relevant columns\n",
    "df.dropna(subset=key_features + [target], inplace=True)\n",
    "\n",
    "# Create a new DataFrame containing only the key features for analysis\n",
    "df_key_features = df[key_features].copy()\n",
    "\n",
    "# Convert the target variable into categorical codes for machine learning models\n",
    "df_target = df[target].astype('category').cat.codes\n",
    "\n",
    "# Encode all key features as categorical codes to prepare for machine learning\n",
    "for column in df_key_features.columns:\n",
    "    df_key_features[column] = df_key_features[column].astype('category').cat.codes\n",
    "\n",
    "# Split the data into training and testing sets\n",
    "X_train, X_test, y_train, y_test = train_test_split(df_key_features, df_target, test_size=0.2, random_state=42)\n",
    "\n",
    "\n",
    "print(df_key_features.head())\n",
    "print(df_target.head())\n",
    "\n",
    "\n",
    "print(\"Training set size:\", X_train.shape)\n",
    "print(\"Test set size:\", X_test.shape)"
   ]
  },
  {
   "cell_type": "code",
   "execution_count": 7,
   "id": "b5c4142b",
   "metadata": {},
   "outputs": [
    {
     "name": "stdout",
     "output_type": "stream",
     "text": [
      "Baseline Model Accuracy: 0.3025705397587731\n",
      "Fitting 2 folds for each of 16 candidates, totalling 32 fits\n",
      "Best Parameters: {'max_depth': 15, 'min_samples_leaf': 4, 'min_samples_split': 5, 'n_estimators': 200}\n",
      "Best Cross-Validation Score: 0.7000095504281447\n",
      "Training Accuracy: 0.7584767154688971\n",
      "Test Accuracy: 0.7161491022212519\n"
     ]
    }
   ],
   "source": [
    "# Initialize the baseline model\n",
    "dummy = DummyClassifier(strategy='most_frequent')\n",
    "dummy.fit(X_train, y_train)\n",
    "baseline_pred = dummy.predict(X_test)\n",
    "baseline_accuracy = accuracy_score(y_test, baseline_pred)\n",
    "print(f\"Baseline Model Accuracy: {baseline_accuracy:}\") \n",
    "\n",
    "\n",
    "# Define the parameter grid for RandomForest\n",
    "param_grid = {\n",
    "    'n_estimators': [100, 200],\n",
    "    'max_depth': [10, 15],\n",
    "    'min_samples_split': [5, 20],\n",
    "    'min_samples_leaf': [4, 8]\n",
    "}\n",
    "\n",
    "# Initialize the RandomForestClassifier\n",
    "rf = RandomForestClassifier(random_state=42, n_jobs=-1)\n",
    "\n",
    "# Use KFold for cross-validation\n",
    "kf = KFold(n_splits=2, shuffle=True, random_state=42)\n",
    "\n",
    "# Initialize GridSearchCV with KFold\n",
    "grid_search = GridSearchCV(rf, param_grid, cv=kf, scoring='accuracy', verbose=1)\n",
    "\n",
    "# Fit GridSearchCV to the training data\n",
    "grid_search.fit(X_train, y_train)\n",
    "\n",
    "# Print the best parameters and the best score\n",
    "print(\"Best Parameters:\", grid_search.best_params_)\n",
    "print(\"Best Cross-Validation Score:\", grid_search.best_score_)\n",
    "\n",
    "# Use the best estimator to make predictions on the training and test data\n",
    "y_pred_train = grid_search.best_estimator_.predict(X_train)\n",
    "y_pred_test = grid_search.best_estimator_.predict(X_test)\n",
    "\n",
    "# Calculate and print the accuracy on the training and test data\n",
    "accuracy_train = accuracy_score(y_train, y_pred_train)\n",
    "accuracy_test = accuracy_score(y_test, y_pred_test)\n",
    "\n",
    "print(f\"Training Accuracy: {accuracy_train}\") \n",
    "print(f\"Test Accuracy: {accuracy_test}\")  \n",
    "\n"
   ]
  },
  {
   "cell_type": "code",
   "execution_count": null,
   "id": "9f9f2f6e",
   "metadata": {},
   "outputs": [],
   "source": []
  },
  {
   "cell_type": "code",
   "execution_count": null,
   "id": "97e0b8cf",
   "metadata": {},
   "outputs": [],
   "source": []
  }
 ],
 "metadata": {
  "kernelspec": {
   "display_name": "Python 3 (ipykernel)",
   "language": "python",
   "name": "python3"
  },
  "language_info": {
   "codemirror_mode": {
    "name": "ipython",
    "version": 3
   },
   "file_extension": ".py",
   "mimetype": "text/x-python",
   "name": "python",
   "nbconvert_exporter": "python",
   "pygments_lexer": "ipython3",
   "version": "3.11.3"
  }
 },
 "nbformat": 4,
 "nbformat_minor": 5
}
